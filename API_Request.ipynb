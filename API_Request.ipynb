{
  "nbformat": 4,
  "nbformat_minor": 0,
  "metadata": {
    "colab": {
      "name": "Example CMSDATA API Request.ipynb",
      "provenance": []
    },
    "kernelspec": {
      "name": "python3",
      "display_name": "Python 3"
    },
    "language_info": {
      "name": "python"
    }
  },
  "cells": [
    {
      "cell_type": "code",
      "metadata": {
        "id": "JbXvJ5_Za9HZ"
      },
      "source": [
        "from urllib.request import urlopen\n",
        "import json\n",
        "import pandas as pd"
      ],
      "execution_count": null,
      "outputs": []
    },
    {
      "cell_type": "code",
      "metadata": {
        "id": "rFbOQSLLa-Ap"
      },
      "source": [
        "# url of COVID-19 Nursing Home Data on data.cms.gov\n",
        "url = 'https://data.cms.gov/data-api/v1/dataset/e57d50ca-334a-4327-966c-bce5d52bcb34/data'\n"
      ],
      "execution_count": null,
      "outputs": []
    },
    {
      "cell_type": "code",
      "metadata": {
        "id": "ZXHQtYNEceoW",
        "colab": {
          "base_uri": "https://localhost:8080/"
        },
        "outputId": "1519a66c-4df6-43d2-90e4-164eaddb622b"
      },
      "source": [
        "df = pd.read_json(url)\n",
        "df.size"
      ],
      "execution_count": null,
      "outputs": [
        {
          "output_type": "execute_result",
          "data": {
            "text/plain": [
              "211000"
            ]
          },
          "metadata": {},
          "execution_count": 5
        }
      ]
    }
  ]
}